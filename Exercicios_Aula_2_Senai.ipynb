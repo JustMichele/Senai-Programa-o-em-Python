{
  "nbformat": 4,
  "nbformat_minor": 0,
  "metadata": {
    "colab": {
      "name": "Exercicios Aula 2 Senai.ipynb",
      "provenance": [],
      "collapsed_sections": [],
      "authorship_tag": "ABX9TyNdZEvmnCOuVtXMe0nWb/L6",
      "include_colab_link": true
    },
    "kernelspec": {
      "name": "python3",
      "display_name": "Python 3"
    },
    "language_info": {
      "name": "python"
    }
  },
  "cells": [
    {
      "cell_type": "markdown",
      "metadata": {
        "id": "view-in-github",
        "colab_type": "text"
      },
      "source": [
        "<a href=\"https://colab.research.google.com/github/JustMichele/Senai-Programa-o-em-Python/blob/main/Exercicios_Aula_2_Senai.ipynb\" target=\"_parent\"><img src=\"https://colab.research.google.com/assets/colab-badge.svg\" alt=\"Open In Colab\"/></a>"
      ]
    },
    {
      "cell_type": "markdown",
      "source": [
        "# Nível Fácil"
      ],
      "metadata": {
        "id": "NSgTObcNl7_h"
      }
    },
    {
      "cell_type": "code",
      "execution_count": null,
      "metadata": {
        "colab": {
          "base_uri": "https://localhost:8080/"
        },
        "id": "4APTnaIylxLn",
        "outputId": "62f0102b-18ed-49dd-c85d-6168bae5f06b"
      },
      "outputs": [
        {
          "output_type": "stream",
          "name": "stdout",
          "text": [
            "Digite o numerador 3\n",
            "Digite o denominador 0\n",
            "não é possível dividir por 0!\n"
          ]
        }
      ],
      "source": [
        "#a.\n",
        "numerador = int(input('Digite o numerador '))\n",
        "denominador = int(input('Digite o denominador '))\n",
        "if denominador != 0:\n",
        " print('O resultado da divisão é', numerador/denominador)\n",
        "\n",
        "else:\n",
        "  print('não é possível dividir por 0!')"
      ]
    },
    {
      "cell_type": "code",
      "source": [
        "#b\n",
        "nota = int(input('Digite a sua nota '))\n",
        "if nota >= 0 and nota <= 10:\n",
        "  print('Nota adicionada!')\n",
        "\n",
        "else:\n",
        "  print('Nota inválida! Digite um valor de 0 à 10!')"
      ],
      "metadata": {
        "colab": {
          "base_uri": "https://localhost:8080/"
        },
        "id": "02wjvG-rmBIG",
        "outputId": "0593ad40-4cb9-4963-e2ed-738c284529fb"
      },
      "execution_count": null,
      "outputs": [
        {
          "output_type": "stream",
          "name": "stdout",
          "text": [
            "Digite a sua nota 11\n",
            "Nota inválida! Digite um valor de 0 à 10!\n"
          ]
        }
      ]
    },
    {
      "cell_type": "code",
      "source": [
        "#c\n",
        "numero = int(input('Digite um número '))\n",
        "if numero > 0:\n",
        "  print('número positivo')\n",
        "elif numero == 0 :\n",
        "  print('número zero')\n",
        "else:\n",
        "  print('número negativo!') "
      ],
      "metadata": {
        "colab": {
          "base_uri": "https://localhost:8080/"
        },
        "id": "DG84Ajhxn8Yz",
        "outputId": "e254ac39-b7f6-4090-b831-f0ff6b15d66b"
      },
      "execution_count": null,
      "outputs": [
        {
          "output_type": "stream",
          "name": "stdout",
          "text": [
            "Digite um número -23\n",
            "número negativo!\n"
          ]
        }
      ]
    },
    {
      "cell_type": "code",
      "source": [
        "#d\n",
        "primeiro_numero = int(input('Digite o primeiro número '))\n",
        "segundo_numero = int(input('Digite o segundo número '))\n",
        "terceiro_numero = int(input('Digite o terceiro número '))\n",
        "\n",
        "maior = primeiro_numero\n",
        "\n",
        "if segundo_numero > maior:\n",
        "  maior = segundo_numero\n",
        "\n",
        "if terceiro_numero > maior:\n",
        "  maior = terceiro_numero\n",
        "\n",
        "print('O maior número é', maior)"
      ],
      "metadata": {
        "id": "4i_QqeXjpPZv",
        "colab": {
          "base_uri": "https://localhost:8080/"
        },
        "outputId": "b3b749bc-3b85-4bfd-f282-ffe0c76ebfd6"
      },
      "execution_count": null,
      "outputs": [
        {
          "output_type": "stream",
          "name": "stdout",
          "text": [
            "Digite o primeiro número 1\n",
            "Digite o segundo número 8\n",
            "Digite o terceiro número 3\n",
            "O maior número é 8\n"
          ]
        }
      ]
    },
    {
      "cell_type": "markdown",
      "source": [
        "# Nível Médio"
      ],
      "metadata": {
        "id": "iJWt17Aj77nH"
      }
    },
    {
      "cell_type": "code",
      "source": [
        "#a.\n",
        "num_macas = int(input('Quantas maçãs você vai levar? '))\n",
        "\n",
        "if num_macas < 12:\n",
        "    valor = 1.30\n",
        "else:\n",
        "  valor = 1.00\n",
        "\n",
        "print('O valor total é R$', num_macas * valor)"
      ],
      "metadata": {
        "colab": {
          "base_uri": "https://localhost:8080/"
        },
        "id": "m2oAvU1m7-PK",
        "outputId": "afd5a095-3dcb-49dc-86fb-5ae06b56f9a5"
      },
      "execution_count": null,
      "outputs": [
        {
          "output_type": "stream",
          "name": "stdout",
          "text": [
            "Quantas maçãs você vai levar? 2\n",
            "O valor total é R$ 2.6\n"
          ]
        }
      ]
    },
    {
      "cell_type": "code",
      "source": [
        "#b\n",
        "import numpy as np\n",
        "nota1 = int(input('Digite a primeira nota '))\n",
        "nota2 = int(input('Digite a segunda nota '))\n",
        "\n",
        "lista = [nota1, nota2]\n",
        "media = np.mean(lista)\n",
        "\n",
        "if media >= 6:\n",
        "  print(f'Aprovado! Sua média foi {media}')\n",
        "\n",
        "else:\n",
        "  print(f'Reprovado! Sua média foi {media}')"
      ],
      "metadata": {
        "colab": {
          "base_uri": "https://localhost:8080/"
        },
        "id": "UbPikbze89HX",
        "outputId": "dad825d0-1130-4673-c612-02732c558707"
      },
      "execution_count": null,
      "outputs": [
        {
          "output_type": "stream",
          "name": "stdout",
          "text": [
            "Digite a primeira nota 3\n",
            "Digite a segunda nota 3\n",
            "Reprovado! Sua média foi 3.0\n"
          ]
        }
      ]
    },
    {
      "cell_type": "code",
      "source": [
        "#c\n",
        "horas = int(input('Quantas horas trabalhou durante o mês? '))\n",
        "salario = int(input('Salário por hora '))\n",
        "\n",
        "if horas > 160:\n",
        "  horas_extras = horas - 160\n",
        "  salario_hora_extra = salario + salario * 0.5\n",
        "  salario = 160 * salario + horas_extras * salario_hora_extra\n",
        "  print('O salário total é R$', salario)\n",
        "\n",
        "else:\n",
        "  salario = horas * salario\n",
        "  print('O salário deste mês será R$', salario_total)"
      ],
      "metadata": {
        "colab": {
          "base_uri": "https://localhost:8080/"
        },
        "id": "5G44xa0p9s2e",
        "outputId": "3450146d-409d-428a-a81a-b16a97d0c381"
      },
      "execution_count": null,
      "outputs": [
        {
          "output_type": "stream",
          "name": "stdout",
          "text": [
            "Quantas horas trabalhou durante o mês? 130\n",
            "Salário por hora 20\n",
            "O salário deste mês será R$ 12750.0\n"
          ]
        }
      ]
    },
    {
      "cell_type": "markdown",
      "source": [
        "# Nível Avançado"
      ],
      "metadata": {
        "id": "WUnXRXU4YaoM"
      }
    },
    {
      "cell_type": "code",
      "source": [
        "#a\n",
        "apitos = int(input('Quantos apitos foram acionados ? '))\n",
        "\n",
        "if apitos == 1:\n",
        "  print('Atualização de DRAM')\n",
        "\n",
        "elif apitos == 2:\n",
        "  print('Circuito de Paridade')\n",
        "\n",
        "elif apitos == 3:\n",
        "  print('Memória Base 64K RAM')\n",
        "\n",
        "elif apitos == 4:\n",
        "  print('Timer do Sistema')\n",
        "\n",
        "elif apitos == 5:\n",
        "  print('Processador')"
      ],
      "metadata": {
        "colab": {
          "base_uri": "https://localhost:8080/"
        },
        "id": "CDfYzS1TYenb",
        "outputId": "2a9e23c2-a473-4c26-adc4-02ffa82f841c"
      },
      "execution_count": null,
      "outputs": [
        {
          "output_type": "stream",
          "name": "stdout",
          "text": [
            "Quantos apitos foram acionados ? 3\n",
            "Memória Base 64K RAM\n"
          ]
        }
      ]
    },
    {
      "cell_type": "code",
      "source": [
        "#b\n",
        "nota = int(input('Qual foi a sua nota? '))\n",
        "\n",
        "if nota >= 9:\n",
        "  print('Excelente!! Parabéns!')\n",
        "\n",
        "elif nota >= 7 and nota < 9:\n",
        "  print('Bom!')\n",
        "\n",
        "elif nota >= 5 and nota < 7:\n",
        "  print('Razoável')\n",
        "\n",
        "else:\n",
        "  print('Fraco')"
      ],
      "metadata": {
        "colab": {
          "base_uri": "https://localhost:8080/"
        },
        "id": "42cXilZLh9rm",
        "outputId": "78aaafdf-19bb-4b7b-af63-3d727b26a56b"
      },
      "execution_count": null,
      "outputs": [
        {
          "output_type": "stream",
          "name": "stdout",
          "text": [
            "Qual foi a sua nota? 8\n",
            "Bom!\n"
          ]
        }
      ]
    },
    {
      "cell_type": "code",
      "source": [
        ""
      ],
      "metadata": {
        "id": "u97O-qoyYiLK"
      },
      "execution_count": null,
      "outputs": []
    }
  ]
}
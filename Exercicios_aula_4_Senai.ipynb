{
  "nbformat": 4,
  "nbformat_minor": 0,
  "metadata": {
    "colab": {
      "name": "Exercicios aula 4 Senai.ipynb",
      "provenance": [],
      "authorship_tag": "ABX9TyP5AYEHuUsz0EEjrwk3MiTo",
      "include_colab_link": true
    },
    "kernelspec": {
      "name": "python3",
      "display_name": "Python 3"
    },
    "language_info": {
      "name": "python"
    }
  },
  "cells": [
    {
      "cell_type": "markdown",
      "metadata": {
        "id": "view-in-github",
        "colab_type": "text"
      },
      "source": [
        "<a href=\"https://colab.research.google.com/github/JustMichele/Senai-Programa-o-em-Python/blob/main/Exercicios_aula_4_Senai.ipynb\" target=\"_parent\"><img src=\"https://colab.research.google.com/assets/colab-badge.svg\" alt=\"Open In Colab\"/></a>"
      ]
    },
    {
      "cell_type": "markdown",
      "source": [
        "## Nível Fácil"
      ],
      "metadata": {
        "id": "R-FLgYKECj5c"
      }
    },
    {
      "cell_type": "markdown",
      "source": [
        "1."
      ],
      "metadata": {
        "id": "4VM7aD9OGYOr"
      }
    },
    {
      "cell_type": "code",
      "execution_count": null,
      "metadata": {
        "colab": {
          "base_uri": "https://localhost:8080/"
        },
        "id": "XDnwLnJMCZc2",
        "outputId": "ee230aec-26c0-485d-9c8b-c0b8aebe8634"
      },
      "outputs": [
        {
          "output_type": "execute_result",
          "data": {
            "text/plain": [
              "[0, 1, 2, 3, 4]"
            ]
          },
          "metadata": {},
          "execution_count": 4
        }
      ],
      "source": [
        "#a.\n",
        "vetA = []\n",
        "for i in range(5):\n",
        "  vetA.append(i)\n",
        "\n",
        "vetA"
      ]
    },
    {
      "cell_type": "markdown",
      "source": [
        "b."
      ],
      "metadata": {
        "id": "rUPz6mzcGcLT"
      }
    },
    {
      "cell_type": "code",
      "source": [
        "lista_de_compras = ['batata', 'arroz', 'feijão', 'macarrão', 'detergente']\n"
      ],
      "metadata": {
        "id": "GkTOwoSUCmj0"
      },
      "execution_count": null,
      "outputs": []
    },
    {
      "cell_type": "code",
      "source": [
        "#i. \n",
        "len(lista_de_compras)"
      ],
      "metadata": {
        "colab": {
          "base_uri": "https://localhost:8080/"
        },
        "id": "Pozl8C3mGTcd",
        "outputId": "b3e893ad-6c71-4937-e2df-55694a82cc60"
      },
      "execution_count": null,
      "outputs": [
        {
          "output_type": "execute_result",
          "data": {
            "text/plain": [
              "5"
            ]
          },
          "metadata": {},
          "execution_count": 20
        }
      ]
    },
    {
      "cell_type": "code",
      "source": [
        "#ii\n",
        "item = input('Digite o item que deseja remover, caso queira sair digite 0 ')\n",
        "while item != '0':\n",
        "  lista_de_compras.remove(item)\n",
        "  print('Item', item, 'foi removido com sucesso!')\n",
        "  item = input('Digite o item que deseja remover, caso queira sair digite 0')\n",
        "\n",
        "item = input('Digite um item para adicionar a lista de compras, para sair digite 0 ' )\n",
        "while item != '0':\n",
        "  lista_de_compras.append(item)\n",
        "  print('Item', item, 'adicionado com sucesso!')\n",
        "  item = input('Digite um item para adicionar a lista de compras, para sair digite 0 ')\n",
        "\n",
        "print(lista_de_compras)"
      ],
      "metadata": {
        "colab": {
          "base_uri": "https://localhost:8080/"
        },
        "id": "Xwdr1Jn7Grq2",
        "outputId": "f5aee132-04c4-453b-e52e-1a18bb14efee"
      },
      "execution_count": null,
      "outputs": [
        {
          "output_type": "stream",
          "name": "stdout",
          "text": [
            "Digite o item que deseja remover, caso queira sair digite 0 0\n",
            "Digite um item para adicionar a lista de compras, para sair digite 0 jiló\n",
            "Item jiló adicionado com sucesso!\n",
            "Digite um item para adicionar a lista de compras, para sair digite 0 0\n",
            "['batata', 'feijão', 'macarrão', 'detergente', 'jiló']\n"
          ]
        }
      ]
    },
    {
      "cell_type": "code",
      "source": [
        "#iii \n",
        "item = input('Digite o item que deseja remover, caso queira sair digite o 0. ')\n",
        "while item != '0':\n",
        "  lista_de_compras.remove(item)\n",
        "  print('O item', item, 'foi removido com sucesso!')\n",
        "  item = input('Digite o item que deseja remover, caso queira sair digite o 0. ')\n",
        "\n",
        "print(lista_de_compras)"
      ],
      "metadata": {
        "colab": {
          "base_uri": "https://localhost:8080/"
        },
        "id": "-OHcgs6EIDV9",
        "outputId": "27d6cb8f-18a6-450a-a7ed-d07aebf97f59"
      },
      "execution_count": null,
      "outputs": [
        {
          "output_type": "stream",
          "name": "stdout",
          "text": [
            "Digite o item que deseja remover, caso queira sair digite o 0 0\n",
            "['batata', 'feijão', 'macarrão', 'jiló']\n"
          ]
        }
      ]
    },
    {
      "cell_type": "code",
      "source": [
        "#iiii\n",
        "item = input('Digite o item que deseja adicionar, caso queira sair digite o 0. ')\n",
        "while item != '0':\n",
        "  lista_de_compras.append(item)\n",
        "  print('O item', item, 'foi adicionado com sucesso!')\n",
        "  item = input('Digite o item que deseja adicionar, caso queira sair digite o 0. ')\n",
        "\n",
        "print(lista_de_compras)"
      ],
      "metadata": {
        "colab": {
          "base_uri": "https://localhost:8080/"
        },
        "id": "7yjWMH-jH1dy",
        "outputId": "10628665-f019-4b2b-809d-9f90beb0bde3"
      },
      "execution_count": null,
      "outputs": [
        {
          "output_type": "stream",
          "name": "stdout",
          "text": [
            "Digite o item que deseja adicionar, caso queira sair digite o 0abacate\n",
            "O item abacate foi adicionado com sucesso!\n",
            "Digite o item que deseja adicionar, caso queira sair digite o 00\n",
            "['batata', 'feijão', 'macarrão', 'jiló', 'abacate']\n"
          ]
        }
      ]
    },
    {
      "cell_type": "code",
      "source": [
        "#v\n",
        "for item in lista_de_compras:\n",
        "  print(item)"
      ],
      "metadata": {
        "colab": {
          "base_uri": "https://localhost:8080/"
        },
        "id": "YKHVpnWdLVAt",
        "outputId": "1755a6ad-90d2-4139-efe3-5b9b347fbc90"
      },
      "execution_count": null,
      "outputs": [
        {
          "output_type": "stream",
          "name": "stdout",
          "text": [
            "batata\n",
            "feijão\n",
            "macarrão\n",
            "jiló\n",
            "abacate\n"
          ]
        }
      ]
    },
    {
      "cell_type": "markdown",
      "source": [
        "## Nível Médio"
      ],
      "metadata": {
        "id": "WZPktY893G5n"
      }
    },
    {
      "cell_type": "code",
      "source": [
        "#a\n",
        "vetB = []\n",
        "for i in range(5):\n",
        "  texto = 'Digite o número'+ str(i+1) + ':'\n",
        "  vetB.append(int(input(texto)))\n",
        "print(vetB)"
      ],
      "metadata": {
        "colab": {
          "base_uri": "https://localhost:8080/"
        },
        "id": "MthCuzHq2X7F",
        "outputId": "18d535de-5086-476f-e50c-7faab5bb7710"
      },
      "execution_count": null,
      "outputs": [
        {
          "output_type": "stream",
          "name": "stdout",
          "text": [
            "Digite o número1:1\n",
            "Digite o número2:3\n",
            "Digite o número3:4\n",
            "Digite o número4:5\n",
            "Digite o número5:6\n",
            "[1, 3, 4, 5, 6]\n"
          ]
        }
      ]
    },
    {
      "cell_type": "code",
      "source": [
        "#b\n",
        "vetC = []\n",
        "for i in range(5):\n",
        "  texto = 'Digite comida '+ str(i+1) + ':'\n",
        "  vetC.append(input(texto))\n",
        "print(vetC)"
      ],
      "metadata": {
        "colab": {
          "base_uri": "https://localhost:8080/"
        },
        "id": "AhW8D73-6cTo",
        "outputId": "f1e465f7-41c5-4a4a-e131-e3d8e2759bdf"
      },
      "execution_count": null,
      "outputs": [
        {
          "output_type": "stream",
          "name": "stdout",
          "text": [
            "Digite comida 1:pizza\n",
            "Digite comida 2:sushi\n",
            "Digite comida 3:churrasco\n",
            "Digite comida 4:bolo\n",
            "Digite comida 5:lanche\n",
            "['pizza', 'sushi', 'churrasco', 'bolo', 'lanche']\n"
          ]
        }
      ]
    },
    {
      "cell_type": "code",
      "source": [
        "#c\n",
        "vetD = []\n",
        "for i in range(50):\n",
        "  vetD.append(i)\n",
        "for x in vetD:\n",
        "  print(x*2)"
      ],
      "metadata": {
        "colab": {
          "base_uri": "https://localhost:8080/"
        },
        "id": "IISBSiuY20pB",
        "outputId": "c0604faa-ad42-4f5f-975c-f9d894614e3d"
      },
      "execution_count": null,
      "outputs": [
        {
          "output_type": "stream",
          "name": "stdout",
          "text": [
            "0\n",
            "2\n",
            "4\n",
            "6\n",
            "8\n",
            "10\n",
            "12\n",
            "14\n",
            "16\n",
            "18\n",
            "20\n",
            "22\n",
            "24\n",
            "26\n",
            "28\n",
            "30\n",
            "32\n",
            "34\n",
            "36\n",
            "38\n",
            "40\n",
            "42\n",
            "44\n",
            "46\n",
            "48\n",
            "50\n",
            "52\n",
            "54\n",
            "56\n",
            "58\n",
            "60\n",
            "62\n",
            "64\n",
            "66\n",
            "68\n",
            "70\n",
            "72\n",
            "74\n",
            "76\n",
            "78\n",
            "80\n",
            "82\n",
            "84\n",
            "86\n",
            "88\n",
            "90\n",
            "92\n",
            "94\n",
            "96\n",
            "98\n"
          ]
        }
      ]
    },
    {
      "cell_type": "code",
      "source": [
        "meses = ('Jan', 'Fev', 'Mar', 'Abr', 'Mai', 'Jun', 'Jul', 'Ago', 'Set', 'Out', 'Nov', 'Dez')\n",
        "meses[8]"
      ],
      "metadata": {
        "colab": {
          "base_uri": "https://localhost:8080/",
          "height": 35
        },
        "id": "xNI4EDDG5WKI",
        "outputId": "851b9d55-011e-44b7-c017-4c00f9ded1ae"
      },
      "execution_count": null,
      "outputs": [
        {
          "output_type": "execute_result",
          "data": {
            "text/plain": [
              "'Set'"
            ],
            "application/vnd.google.colaboratory.intrinsic+json": {
              "type": "string"
            }
          },
          "metadata": {},
          "execution_count": 12
        }
      ]
    },
    {
      "cell_type": "code",
      "source": [
        "computador = set(['Processador', 'Placa-Mãe', 'SSD', 'Placa de Vídeo'])\n",
        "computador.add('Memoria RAM')\n",
        "computador"
      ],
      "metadata": {
        "colab": {
          "base_uri": "https://localhost:8080/"
        },
        "id": "k4_m2T6T52mG",
        "outputId": "6720f24d-90ea-427f-e197-424529e24ad3"
      },
      "execution_count": null,
      "outputs": [
        {
          "output_type": "execute_result",
          "data": {
            "text/plain": [
              "{'Memoria RAM', 'Placa de Vídeo', 'Placa-Mãe', 'Processador', 'SSD'}"
            ]
          },
          "metadata": {},
          "execution_count": 13
        }
      ]
    },
    {
      "cell_type": "code",
      "source": [
        "conceitos_de_python = {\n",
        "    'variavel':'Guarda um tipo de valor int,string, booleano ou float',\n",
        "    'for':'É uma estrutura de repetição',\n",
        "    'if,else':'Uma condição',\n",
        "    'def':'Para criar uma função',\n",
        "    'import':'Importar uma biblioteca',\n",
        "}\n",
        "conceitos_de_python"
      ],
      "metadata": {
        "colab": {
          "base_uri": "https://localhost:8080/"
        },
        "id": "0n7sUl_m6Jnv",
        "outputId": "9f4dba2f-1eae-471c-8a78-23ca50d1db74"
      },
      "execution_count": null,
      "outputs": [
        {
          "output_type": "execute_result",
          "data": {
            "text/plain": [
              "{'def': 'Para criar uma função',\n",
              " 'for': 'É uma estrutura de repetição',\n",
              " 'if,else': 'Uma condição',\n",
              " 'import': 'Importar uma biblioteca',\n",
              " 'variavel': 'Guarda um tipo de valor int,string, booleano ou float'}"
            ]
          },
          "metadata": {},
          "execution_count": 20
        }
      ]
    }
  ]
}
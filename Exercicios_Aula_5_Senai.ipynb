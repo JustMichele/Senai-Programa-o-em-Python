{
  "nbformat": 4,
  "nbformat_minor": 0,
  "metadata": {
    "colab": {
      "name": "Exercicios Aula 5 Senai.ipynb",
      "provenance": [],
      "collapsed_sections": [],
      "authorship_tag": "ABX9TyMYfKRfotoFq7u1Jmv3LRgv",
      "include_colab_link": true
    },
    "kernelspec": {
      "name": "python3",
      "display_name": "Python 3"
    },
    "language_info": {
      "name": "python"
    }
  },
  "cells": [
    {
      "cell_type": "markdown",
      "metadata": {
        "id": "view-in-github",
        "colab_type": "text"
      },
      "source": [
        "<a href=\"https://colab.research.google.com/github/JustMichele/Senai-Programa-o-em-Python/blob/main/Exercicios_Aula_5_Senai.ipynb\" target=\"_parent\"><img src=\"https://colab.research.google.com/assets/colab-badge.svg\" alt=\"Open In Colab\"/></a>"
      ]
    },
    {
      "cell_type": "markdown",
      "source": [
        "# Nível Fácil"
      ],
      "metadata": {
        "id": "r7nW6qLadpwp"
      }
    },
    {
      "cell_type": "markdown",
      "source": [
        "1."
      ],
      "metadata": {
        "id": "PQD1gjQqNuLM"
      }
    },
    {
      "cell_type": "code",
      "execution_count": null,
      "metadata": {
        "colab": {
          "base_uri": "https://localhost:8080/"
        },
        "id": "VjmeXFpMdIMI",
        "outputId": "67b60fcd-69dc-4caa-f42d-765c1b621c79"
      },
      "outputs": [
        {
          "output_type": "stream",
          "name": "stdout",
          "text": [
            "Olá\n"
          ]
        }
      ],
      "source": [
        "#a\n",
        "def frase():\n",
        "  print('Olá')\n",
        "\n",
        "frase()"
      ]
    },
    {
      "cell_type": "code",
      "source": [
        "#b\n",
        "def dar_bom_dia(nome):\n",
        "  print('Bom dia', nome)\n",
        "\n",
        "dar_bom_dia('Michele')"
      ],
      "metadata": {
        "colab": {
          "base_uri": "https://localhost:8080/"
        },
        "id": "nwWoxQeueQmE",
        "outputId": "1744ab18-ec4d-404e-a8d0-a40ee17df3f2"
      },
      "execution_count": null,
      "outputs": [
        {
          "output_type": "stream",
          "name": "stdout",
          "text": [
            "Bom dia Michele\n"
          ]
        }
      ]
    },
    {
      "cell_type": "code",
      "source": [
        "#c\n",
        "def multiplicacao(v1):\n",
        "  print(v1*2)\n",
        "\n",
        "multiplicacao(2)"
      ],
      "metadata": {
        "colab": {
          "base_uri": "https://localhost:8080/"
        },
        "id": "4fdiRbYSfEUa",
        "outputId": "2c6075ae-c1cb-4703-f19b-6992ba1dc7c7"
      },
      "execution_count": null,
      "outputs": [
        {
          "output_type": "stream",
          "name": "stdout",
          "text": [
            "4\n"
          ]
        }
      ]
    },
    {
      "cell_type": "code",
      "source": [
        "#d\n",
        "def soma(v1,v2):\n",
        "  print(v1+v2)\n",
        "\n",
        "soma(2,4)"
      ],
      "metadata": {
        "id": "GMGDh-1hgH4L",
        "colab": {
          "base_uri": "https://localhost:8080/"
        },
        "outputId": "aefd0d22-d55b-4a5b-e59f-17658da2a2f4"
      },
      "execution_count": null,
      "outputs": [
        {
          "output_type": "stream",
          "name": "stdout",
          "text": [
            "6\n"
          ]
        }
      ]
    },
    {
      "cell_type": "code",
      "source": [
        "#e\n",
        "def subtracao(v1,v2):\n",
        "  return (v1-v2)\n",
        "\n",
        "resultado = subtracao(3,2)\n",
        "print(resultado)"
      ],
      "metadata": {
        "colab": {
          "base_uri": "https://localhost:8080/"
        },
        "id": "c3AEKGTiKG8B",
        "outputId": "2789d293-3b64-48ae-edad-c2e67389f694"
      },
      "execution_count": null,
      "outputs": [
        {
          "output_type": "stream",
          "name": "stdout",
          "text": [
            "1\n"
          ]
        }
      ]
    },
    {
      "cell_type": "code",
      "source": [
        "#f\n",
        "def unindo_frases(f1,f2):\n",
        "  return str(f1 + f2)\n",
        "\n",
        "uniao = unindo_frases('Boa ', 'Noite')\n",
        "print(uniao)"
      ],
      "metadata": {
        "colab": {
          "base_uri": "https://localhost:8080/"
        },
        "id": "IF9XPuHlLyaH",
        "outputId": "6d19c645-75b2-4b1a-9dbd-34e0eefe7da8"
      },
      "execution_count": null,
      "outputs": [
        {
          "output_type": "stream",
          "name": "stdout",
          "text": [
            "Boa Noite\n"
          ]
        }
      ]
    },
    {
      "cell_type": "code",
      "source": [
        "#g\n",
        "def par_ou_impar(num1):\n",
        "  if num1 % 2 == 0:\n",
        "    return True\n",
        "  else:\n",
        "    return False\n",
        "  \n",
        "resultado = par_ou_impar(8)\n",
        "print(resultado)"
      ],
      "metadata": {
        "colab": {
          "base_uri": "https://localhost:8080/"
        },
        "id": "lQMxMWHxM3PE",
        "outputId": "9a76e233-d4a3-4116-e279-ae83ab06f52d"
      },
      "execution_count": null,
      "outputs": [
        {
          "output_type": "stream",
          "name": "stdout",
          "text": [
            "True\n"
          ]
        }
      ]
    },
    {
      "cell_type": "markdown",
      "source": [
        "2."
      ],
      "metadata": {
        "id": "vI4pxviCNyCE"
      }
    },
    {
      "cell_type": "code",
      "source": [
        "#a\n",
        "def quadrado(num1):\n",
        "  return (num1**2)\n",
        "\n",
        "resultado = quadrado(3)\n",
        "print(resultado)"
      ],
      "metadata": {
        "colab": {
          "base_uri": "https://localhost:8080/"
        },
        "id": "QyRoDBjdNoO2",
        "outputId": "44e5c004-b635-4502-bc20-57743bb26860"
      },
      "execution_count": null,
      "outputs": [
        {
          "output_type": "stream",
          "name": "stdout",
          "text": [
            "9\n"
          ]
        }
      ]
    },
    {
      "cell_type": "code",
      "source": [
        "#b\n",
        "def qual_dos_valores_maior(num1,num2,num3):\n",
        "  maior = num1\n",
        "  if num2 > maior:\n",
        "    maior = num2\n",
        "  if num3 > maior:\n",
        "    maior = num3\n",
        "    return maior\n",
        "\n",
        "num1 = int(input('Digite o 1 número: '))\n",
        "num2 = int(input('Digite o 2 número: '))\n",
        "num3 = int(input('Digite o 3 número: '))\n",
        "\n",
        "print('O maior número é ', qual_dos_valores_maior(num1,num2,num3))"
      ],
      "metadata": {
        "colab": {
          "base_uri": "https://localhost:8080/"
        },
        "id": "YgVTd4Q0OLNA",
        "outputId": "b9d7b8f0-b682-476d-c32f-712283e8ba2b"
      },
      "execution_count": null,
      "outputs": [
        {
          "output_type": "stream",
          "name": "stdout",
          "text": [
            "Digite o 1 número: 5\n",
            "Digite o 2 número: 8\n",
            "Digite o 3 número: 9\n",
            "O maior número é  9\n"
          ]
        }
      ]
    },
    {
      "cell_type": "code",
      "source": [
        "#c\n",
        "\n",
        "def dimensao_do_retangulo(base,altura):\n",
        "  base, altura = -1, -1\n",
        "  while base <= 0:\n",
        "    base = int(input('Digite o valor da base: '))\n",
        "    if base <= 0:\n",
        "      print('Valor inválido')\n",
        "\n",
        "  while altura <= 0:\n",
        "    altura = int(input('Digite o valor da altura: '))\n",
        "    if altura <= 0:\n",
        "      print('Valor inválido')\n",
        "\n",
        "    area = base*altura\n",
        "    return area\n",
        "\n",
        "print('O resultado é ', dimensao_do_retangulo(0,1))\n"
      ],
      "metadata": {
        "colab": {
          "base_uri": "https://localhost:8080/"
        },
        "id": "-drgjk8wPRJv",
        "outputId": "adfb7383-d71a-4197-d015-f2e16d6f9916"
      },
      "execution_count": null,
      "outputs": [
        {
          "output_type": "stream",
          "name": "stdout",
          "text": [
            "Digite o valor da base: 4\n",
            "Digite o valor da altura: 5\n",
            "O resultado é  20\n"
          ]
        }
      ]
    },
    {
      "cell_type": "code",
      "source": [
        "#d\n",
        "def lista(vetA):\n",
        "  for x in vetA:\n",
        "    print(x)\n",
        "\n",
        "vetA = [1,35,2,5,6]\n",
        "lista(vetA)"
      ],
      "metadata": {
        "colab": {
          "base_uri": "https://localhost:8080/"
        },
        "id": "dsoFK5M6SgTx",
        "outputId": "e37c3a5d-2d12-4368-950c-f7bff16cb35c"
      },
      "execution_count": null,
      "outputs": [
        {
          "output_type": "stream",
          "name": "stdout",
          "text": [
            "1\n",
            "35\n",
            "2\n",
            "5\n",
            "6\n"
          ]
        }
      ]
    },
    {
      "cell_type": "markdown",
      "source": [
        "## Nível Médio"
      ],
      "metadata": {
        "id": "0-xbuDDEdYrM"
      }
    },
    {
      "cell_type": "markdown",
      "source": [
        "1."
      ],
      "metadata": {
        "id": "3bsJ3NAUfoGH"
      }
    },
    {
      "cell_type": "code",
      "source": [
        "#a\n",
        "def lista_crescente(n1,n2,n3,n4,n5):\n",
        "  lista = [n1,n2,n3,n4,n5]\n",
        "  lista.sort()\n",
        "  return lista\n",
        "\n",
        "print(lista_crescente(23,43,56,21,64))"
      ],
      "metadata": {
        "id": "8-c_EdeOUNPd",
        "colab": {
          "base_uri": "https://localhost:8080/"
        },
        "outputId": "5370dcb8-ed69-40f7-bfd3-9a3b8cd934c1"
      },
      "execution_count": null,
      "outputs": [
        {
          "output_type": "stream",
          "name": "stdout",
          "text": [
            "[21, 23, 43, 56, 64]\n"
          ]
        }
      ]
    },
    {
      "cell_type": "markdown",
      "source": [
        "2."
      ],
      "metadata": {
        "id": "BfKiCU7OflXv"
      }
    },
    {
      "cell_type": "code",
      "source": [
        "#b\n",
        "horas = int(input('Digite o número de horas: '))\n",
        "salario_hora = int(input('Digite o salario por horas: '))\n",
        "\n",
        "def calcular_salario(horas, salario_hora):\n",
        "  if horas > 160:\n",
        "    salario = 160*salario_hora + (horas-160)*salario_hora*1.5\n",
        "  else:\n",
        "    salario = horas*salario_hora\n",
        "  return salario\n",
        "\n",
        "sal = calcular_salario(horas, salario_hora)\n",
        "print('O valor total do salário será R$', sal)"
      ],
      "metadata": {
        "colab": {
          "base_uri": "https://localhost:8080/"
        },
        "id": "8PTLjaPcDJG0",
        "outputId": "3fd2fab5-94c9-4945-9520-de24005aabb7"
      },
      "execution_count": null,
      "outputs": [
        {
          "output_type": "stream",
          "name": "stdout",
          "text": [
            "Digite o número de horas: 124\n",
            "Digite o salario por horas: 45\n",
            "O valor total do salário será R$ 5580\n"
          ]
        }
      ]
    },
    {
      "cell_type": "markdown",
      "source": [
        "## Nível Avançado"
      ],
      "metadata": {
        "id": "WZ_KBMWvfY_v"
      }
    },
    {
      "cell_type": "code",
      "source": [
        "#b\n",
        "import math\n",
        "def e_quadrado(n):\n",
        "  raiz = math.sqrt(n)\n",
        "  if raiz == int(raiz):\n",
        "    return True\n",
        "  return False\n",
        "\n",
        "print(e_quadrado(5))"
      ],
      "metadata": {
        "colab": {
          "base_uri": "https://localhost:8080/"
        },
        "id": "-NhIpZqOGWlZ",
        "outputId": "d6adb8b2-f7ee-4b3e-e157-f766ccfc4156"
      },
      "execution_count": null,
      "outputs": [
        {
          "output_type": "stream",
          "name": "stdout",
          "text": [
            "False\n"
          ]
        }
      ]
    },
    {
      "cell_type": "code",
      "source": [
        "#e\n",
        "def concatena_vetores(vet1, vet2):\n",
        "  vet1.extend(vet2)\n",
        "  return vet1\n",
        "\n",
        "v1 = [1,23,4]\n",
        "v2 = [2,4,5]\n",
        "\n",
        "print(concatena_vetores(v1, vet2))"
      ],
      "metadata": {
        "colab": {
          "base_uri": "https://localhost:8080/"
        },
        "id": "2Y8k3byANkWV",
        "outputId": "6982173b-b8d3-4ee3-e4d3-ff4fc577c208"
      },
      "execution_count": null,
      "outputs": [
        {
          "output_type": "stream",
          "name": "stdout",
          "text": [
            "[1, 23, 4, 2, 4, 5]\n"
          ]
        }
      ]
    }
  ]
}